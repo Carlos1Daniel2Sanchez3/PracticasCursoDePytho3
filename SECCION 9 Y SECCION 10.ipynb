{
 "cells": [
  {
   "cell_type": "code",
   "execution_count": 1,
   "metadata": {},
   "outputs": [],
   "source": [
    "# <<< SECCION 9 MODULOS>>>  Ejercicio 1"
   ]
  },
  {
   "cell_type": "markdown",
   "metadata": {},
   "source": [
    "Crea un modulo \"modulo1.py\"\n",
    "\n",
    "Añadir la clase \"coche\" creada a un eje inicio anterior al modulo \"modulo1\"\n",
    "\n",
    "Crea un programa en python \"programa1.py\"\n",
    "\n",
    "Importa el \"modulo1\" antes creado\n",
    "\n",
    "Crea un objeto \"coche1\" al instanciar la clase \"coche\"\n",
    "\n",
    "Mediante print mostrar las caracteristicas del coche\n",
    "\n",
    "Calcula la media de 3 notas y muestra el resultado cn print\n",
    "\n",
    "Ejecuta el programa \"programa1.py\" y ver el resultado"
   ]
  },
  {
   "cell_type": "code",
   "execution_count": null,
   "metadata": {},
   "outputs": [],
   "source": []
  },
  {
   "cell_type": "code",
   "execution_count": null,
   "metadata": {},
   "outputs": [],
   "source": []
  },
  {
   "cell_type": "code",
   "execution_count": 3,
   "metadata": {},
   "outputs": [],
   "source": [
    "# <<< SECCION 10 MODULOS>>>  Ejercicio 1"
   ]
  },
  {
   "cell_type": "markdown",
   "metadata": {},
   "source": [
    "Crea un modulo \"moduloficheros.py\"\n",
    "    \n",
    "    Crear una clase \"fichero\"\n",
    "    Crear la funcion \"leer_fichero\" para leer de un fichero de texto\n",
    "    Crear la funcion \"grabar_fichero\" para crear de un fichero de texto\n",
    "    Crear la funcion \"incluir_fichero\" para incluir datos al final de un fichero de texto\n",
    "\n",
    "Crea un programa \"programa2.py\"\n",
    "\n",
    "    Crea el objeto \"fichero\" de la clase \"Fichero\" del modulo \"modulofichero.py\"\n",
    "    Utiliza el metodo \"grabar_fichero\" el objeto \"fichero\" para crear de un nuevo fichero de texto\n",
    "    Utiliza el metodo \"incluir_fichero\" para incorporar mas datos al final del fichero\n",
    "    Utiliza el metodo \"leer_fichero\" para ver todo el contenido del fichero\n",
    "\n",
    "Ejecuta el programa \"programa2.py\" desde la terminal de comandos\n"
   ]
  },
  {
   "cell_type": "code",
   "execution_count": null,
   "metadata": {},
   "outputs": [],
   "source": []
  }
 ],
 "metadata": {
  "kernelspec": {
   "display_name": "Python 3",
   "language": "python",
   "name": "python3"
  },
  "language_info": {
   "codemirror_mode": {
    "name": "ipython",
    "version": 3
   },
   "file_extension": ".py",
   "mimetype": "text/x-python",
   "name": "python",
   "nbconvert_exporter": "python",
   "pygments_lexer": "ipython3",
   "version": "3.7.6"
  }
 },
 "nbformat": 4,
 "nbformat_minor": 4
}
