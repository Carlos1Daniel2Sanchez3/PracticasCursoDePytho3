{
 "cells": [
  {
   "cell_type": "code",
   "execution_count": 1,
   "metadata": {},
   "outputs": [],
   "source": [
    "#SECCION 16 GENERA DOCUMENTACIAUTOMATICA"
   ]
  },
  {
   "cell_type": "code",
   "execution_count": 9,
   "metadata": {},
   "outputs": [],
   "source": [
    "def saludar(nombre):\n",
    "    \"\"\"\n",
    "    ESTO SERA UN COMENTARIO DE LA FUNCION SALUDAR\n",
    "    ESTA FUNCION RECIBIRA COMO PARAMETEÇRO CADENA CON EL MISMO NOMBRE E\n",
    "    IMPRIMIRA POR PANTALLA UN SALUDOCON EL NOMBRE CONCATENADO\n",
    "    \"\"\"\n",
    "    print(\"Buenos dias \" + nombre)"
   ]
  },
  {
   "cell_type": "code",
   "execution_count": 11,
   "metadata": {},
   "outputs": [
    {
     "name": "stdout",
     "output_type": "stream",
     "text": [
      "Buenos dias Carlos Daniel\n"
     ]
    }
   ],
   "source": [
    "saludar(\"Carlos Daniel\")"
   ]
  },
  {
   "cell_type": "code",
   "execution_count": 31,
   "metadata": {},
   "outputs": [],
   "source": [
    "class saludos:\n",
    "    \"\"\"\n",
    "    esta clase tendra dos funciones buenos dias y adios\n",
    "    Ambas funciones recibiran un parametrço\n",
    "    \"\"\"\n",
    "    def buenos_dias(self,nombre):\n",
    "        \"\"\"sirve para decir buenos dias a una persona \"\"\"\n",
    "        print(\"Buenos dias {}\".format(nombre))\n",
    "        \n",
    "    def adios(self,nombre):\n",
    "        \"\"\"sirve para decir adios a una persona \"\"\"\n",
    "        print(\"Adios {}\".format(nombre))"
   ]
  },
  {
   "cell_type": "code",
   "execution_count": 32,
   "metadata": {},
   "outputs": [
    {
     "name": "stdout",
     "output_type": "stream",
     "text": [
      "Buenos dias carlos\n"
     ]
    }
   ],
   "source": [
    "saludo = saludos ()\n",
    "saludo.buenos_dias(\"carlos\")"
   ]
  },
  {
   "cell_type": "code",
   "execution_count": 33,
   "metadata": {},
   "outputs": [
    {
     "name": "stdout",
     "output_type": "stream",
     "text": [
      "Adios carlos\n"
     ]
    }
   ],
   "source": [
    "saludo = saludos ()\n",
    "saludo.adios(\"carlos\")"
   ]
  },
  {
   "cell_type": "code",
   "execution_count": null,
   "metadata": {},
   "outputs": [],
   "source": []
  }
 ],
 "metadata": {
  "kernelspec": {
   "display_name": "Python 3",
   "language": "python",
   "name": "python3"
  },
  "language_info": {
   "codemirror_mode": {
    "name": "ipython",
    "version": 3
   },
   "file_extension": ".py",
   "mimetype": "text/x-python",
   "name": "python",
   "nbconvert_exporter": "python",
   "pygments_lexer": "ipython3",
   "version": "3.7.6"
  }
 },
 "nbformat": 4,
 "nbformat_minor": 4
}
