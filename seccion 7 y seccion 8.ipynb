{
 "cells": [
  {
   "cell_type": "code",
   "execution_count": 4,
   "metadata": {},
   "outputs": [],
   "source": [
    "# <<< SECCION 7  BUCLES Y CONDICIONES>>>  Ejercicio 1"
   ]
  },
  {
   "cell_type": "markdown",
   "metadata": {},
   "source": [
    "Creamos un diccionario con los siguientes pares de valores\n",
    "\n",
    "        manzana, apple\n",
    "        naranja, orange\n",
    "        platano, banana\n",
    "        limon, lemon\n",
    "        \n",
    "Muestra la traduccion para la palabra \"naranja\"\n",
    "\n",
    "Añade un elemento nuevo con \"piña\" y \"pineapple\"\n",
    "\n",
    "Haz un bucle para mostrar todos los elementos del diccionario"
   ]
  },
  {
   "cell_type": "code",
   "execution_count": 5,
   "metadata": {},
   "outputs": [],
   "source": [
    "frutas = {\"manzana\":\"apple\", \"naranja\":\"orange\", \"platano\":\"banana\", \"limon\":\"lemon\"}"
   ]
  },
  {
   "cell_type": "code",
   "execution_count": 6,
   "metadata": {},
   "outputs": [
    {
     "data": {
      "text/plain": [
       "{'manzana': 'apple',\n",
       " 'naranja': 'orange',\n",
       " 'platano': 'banana',\n",
       " 'limon': 'lemon'}"
      ]
     },
     "execution_count": 6,
     "metadata": {},
     "output_type": "execute_result"
    }
   ],
   "source": [
    "frutas"
   ]
  },
  {
   "cell_type": "code",
   "execution_count": 8,
   "metadata": {},
   "outputs": [
    {
     "data": {
      "text/plain": [
       "'orange'"
      ]
     },
     "execution_count": 8,
     "metadata": {},
     "output_type": "execute_result"
    }
   ],
   "source": [
    "frutas[\"naranja\"]"
   ]
  },
  {
   "cell_type": "code",
   "execution_count": 9,
   "metadata": {},
   "outputs": [],
   "source": [
    "frutas[\"piña\"] = \"pineapple\""
   ]
  },
  {
   "cell_type": "code",
   "execution_count": 10,
   "metadata": {},
   "outputs": [
    {
     "data": {
      "text/plain": [
       "{'manzana': 'apple',\n",
       " 'naranja': 'orange',\n",
       " 'platano': 'banana',\n",
       " 'limon': 'lemon',\n",
       " 'piña': 'pineapple'}"
      ]
     },
     "execution_count": 10,
     "metadata": {},
     "output_type": "execute_result"
    }
   ],
   "source": [
    "frutas"
   ]
  },
  {
   "cell_type": "code",
   "execution_count": 11,
   "metadata": {},
   "outputs": [
    {
     "name": "stdout",
     "output_type": "stream",
     "text": [
      "manzana en ingles es apple\n",
      "naranja en ingles es orange\n",
      "platano en ingles es banana\n",
      "limon en ingles es lemon\n",
      "piña en ingles es pineapple\n"
     ]
    }
   ],
   "source": [
    "for clave,valor in frutas.items():\n",
    "    print(\"{} en ingles es {}\".format(clave,valor))"
   ]
  },
  {
   "cell_type": "code",
   "execution_count": null,
   "metadata": {},
   "outputs": [],
   "source": []
  },
  {
   "cell_type": "code",
   "execution_count": 12,
   "metadata": {},
   "outputs": [],
   "source": [
    "#Ejercicio 2"
   ]
  },
  {
   "cell_type": "markdown",
   "metadata": {},
   "source": [
    "Creamos una variable \"nota\" que tenga el valor 4.5\n",
    "\n",
    "Creamos una variable \"trabajo_realizado\" que tenga el valor ´si´\n",
    "\n",
    "Calcula el valor de la variable \"nota_final\", teniendo encuentaque, si la nota_final es mayor o igual a 4 y\n",
    "el valor de la variable \"trabajo_realizado\" es idual a \"si\", entonces \"nota_final\" sera igual a \"aprovado\", en caso\n",
    "contrario sera igual a \"suspenso\"\n"
   ]
  },
  {
   "cell_type": "code",
   "execution_count": 15,
   "metadata": {},
   "outputs": [],
   "source": [
    "nota = 4.5\n",
    "trabajo_realizado = 'si'\n",
    "if (nota >= 4) and (trabajo_realizado == 'si'):\n",
    "    nota_final = 'aprobado'\n",
    "else:\n",
    "    nota_final = 'suspenso' "
   ]
  },
  {
   "cell_type": "code",
   "execution_count": 16,
   "metadata": {},
   "outputs": [
    {
     "data": {
      "text/plain": [
       "'aprobado'"
      ]
     },
     "execution_count": 16,
     "metadata": {},
     "output_type": "execute_result"
    }
   ],
   "source": [
    "nota_final"
   ]
  },
  {
   "cell_type": "code",
   "execution_count": null,
   "metadata": {},
   "outputs": [],
   "source": []
  },
  {
   "cell_type": "code",
   "execution_count": null,
   "metadata": {},
   "outputs": [],
   "source": []
  },
  {
   "cell_type": "code",
   "execution_count": 17,
   "metadata": {},
   "outputs": [],
   "source": [
    "# <<< SECCION 8 CLASES, OBJETOS Y FUNCIONES>>>  Ejercicio 1"
   ]
  },
  {
   "cell_type": "markdown",
   "metadata": {},
   "source": [
    "Crear una clase \"Coche\" que tenga estos atributos:\n",
    "marca, color, combustible y cilindrada\n",
    "\n",
    "Crea la funcion \"_init_\" que asigna los parametros de la clase a los atributos de la clase\n",
    "\n",
    "Crea otra funcion \"mostrando_caracteristicas\" que mediante print muetre por pantalla\n",
    "las caracteristicas (o atributos) que tiene el coche\n",
    "\n",
    "Crea un objeto \"coche1\" de la clase \"coche\" con los atributos \"Opel\",\"rojo\",\"gasolina\",\"1.6\"\n",
    "\n",
    "Ejecuta la funcion \"mostrando_caracteristicas\" del objeto \"coche1\"\n"
   ]
  },
  {
   "cell_type": "code",
   "execution_count": 44,
   "metadata": {},
   "outputs": [],
   "source": [
    "class Coche:\n",
    "    def __init__(self,marca,color,combustible,cilindrada):\n",
    "        self.marca = marca\n",
    "        self.color = color\n",
    "        self.combustible = combustible\n",
    "        self.cilindrada = cilindrada\n",
    "    def mostrar_caracteristicas(self):\n",
    "        print(\"Este coche es de la marca {} de color {} de {} y una cilindrada de {}\"\n",
    "            .format(self.marca, self.color, self.combustible, self.cilindrada))"
   ]
  },
  {
   "cell_type": "code",
   "execution_count": 45,
   "metadata": {},
   "outputs": [],
   "source": [
    "coche1 = Coche(\"Opel\",\"rojo\",\"gasolina\",\"1.6\")"
   ]
  },
  {
   "cell_type": "code",
   "execution_count": 48,
   "metadata": {},
   "outputs": [
    {
     "data": {
      "text/plain": [
       "'rojo'"
      ]
     },
     "execution_count": 48,
     "metadata": {},
     "output_type": "execute_result"
    }
   ],
   "source": [
    "coche1.color"
   ]
  },
  {
   "cell_type": "code",
   "execution_count": 49,
   "metadata": {},
   "outputs": [
    {
     "name": "stdout",
     "output_type": "stream",
     "text": [
      "Este coche es de la marca Opel de color rojo de gasolina y una cilindrada de 1.6\n"
     ]
    }
   ],
   "source": [
    "coche1.mostrar_caracteristicas()"
   ]
  },
  {
   "cell_type": "code",
   "execution_count": null,
   "metadata": {},
   "outputs": [],
   "source": []
  },
  {
   "cell_type": "code",
   "execution_count": 50,
   "metadata": {},
   "outputs": [],
   "source": [
    "#Ejercicio 2"
   ]
  },
  {
   "cell_type": "markdown",
   "metadata": {},
   "source": [
    "Crea una funcion lambda que calcule la media de 3 notas"
   ]
  },
  {
   "cell_type": "code",
   "execution_count": 51,
   "metadata": {},
   "outputs": [],
   "source": [
    "media = lambda nota1, nota2, nota3 : (nota1 + nota2 + nota3) / 3"
   ]
  },
  {
   "cell_type": "code",
   "execution_count": 52,
   "metadata": {},
   "outputs": [
    {
     "data": {
      "text/plain": [
       "5.0"
      ]
     },
     "execution_count": 52,
     "metadata": {},
     "output_type": "execute_result"
    }
   ],
   "source": [
    "media(4,6,5)"
   ]
  },
  {
   "cell_type": "code",
   "execution_count": 54,
   "metadata": {},
   "outputs": [
    {
     "data": {
      "text/plain": [
       "5.033333333333333"
      ]
     },
     "execution_count": 54,
     "metadata": {},
     "output_type": "execute_result"
    }
   ],
   "source": [
    "media(3,4.5,7.6)"
   ]
  },
  {
   "cell_type": "code",
   "execution_count": 55,
   "metadata": {},
   "outputs": [
    {
     "data": {
      "text/plain": [
       "7.333333333333333"
      ]
     },
     "execution_count": 55,
     "metadata": {},
     "output_type": "execute_result"
    }
   ],
   "source": [
    "media(6,7,9)"
   ]
  },
  {
   "cell_type": "code",
   "execution_count": null,
   "metadata": {},
   "outputs": [],
   "source": []
  }
 ],
 "metadata": {
  "kernelspec": {
   "display_name": "Python 3",
   "language": "python",
   "name": "python3"
  },
  "language_info": {
   "codemirror_mode": {
    "name": "ipython",
    "version": 3
   },
   "file_extension": ".py",
   "mimetype": "text/x-python",
   "name": "python",
   "nbconvert_exporter": "python",
   "pygments_lexer": "ipython3",
   "version": "3.7.6"
  }
 },
 "nbformat": 4,
 "nbformat_minor": 4
}
