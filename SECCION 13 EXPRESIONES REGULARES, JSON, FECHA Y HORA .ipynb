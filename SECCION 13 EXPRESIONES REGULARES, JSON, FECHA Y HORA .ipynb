{
 "cells": [
  {
   "cell_type": "code",
   "execution_count": 3,
   "metadata": {},
   "outputs": [],
   "source": [
    "#SECCION 13 EXPRESIONES REGULARES, JSON, FECHA Y HORA >>>  Ejercicio 1"
   ]
  },
  {
   "cell_type": "markdown",
   "metadata": {},
   "source": [
    "Crear una funcion “buscar” que mediante una expresion regular indique si una palabra esta en una frase\n",
    "\n",
    "Probar la fincion “buscar ” con estas frases\n",
    "\ttexto = “Esto es una frase de pruebas para hacer busquedas”\n",
    "\tPalabra_a_buscar = ‘frase’\n",
    "\n",
    "En caso de encontrar la palabra en la frase . indicar en que posicion empieza y en cual finaliza.\n"
   ]
  },
  {
   "cell_type": "code",
   "execution_count": 5,
   "metadata": {},
   "outputs": [],
   "source": [
    "import re"
   ]
  },
  {
   "cell_type": "code",
   "execution_count": 6,
   "metadata": {},
   "outputs": [],
   "source": [
    "def buscar(palabra,texto):\n",
    "\tresultado = re.search(palabra,texto)\n",
    "\treturn resultado\n"
   ]
  },
  {
   "cell_type": "code",
   "execution_count": 8,
   "metadata": {},
   "outputs": [],
   "source": [
    "texto = \"Esto es una frase de pruebas para hacer busquedas\"\n",
    "palabra  =  \"frase\""
   ]
  },
  {
   "cell_type": "code",
   "execution_count": 9,
   "metadata": {},
   "outputs": [],
   "source": [
    "resultado = buscar(palabra,texto)"
   ]
  },
  {
   "cell_type": "code",
   "execution_count": 10,
   "metadata": {},
   "outputs": [
    {
     "name": "stdout",
     "output_type": "stream",
     "text": [
      "Palabra frase encontrada\n",
      "Empieza en la posicion 12 y finaliza en la posicion 17\n"
     ]
    }
   ],
   "source": [
    "if (resultado):\n",
    "\tprint(\"Palabra {} encontrada\".format(palabra))\n",
    "\tinicial = resultado.start()\n",
    "\tfinal = resultado.end()\n",
    "\tprint(\"Empieza en la posicion {} y finaliza en la posicion {}\".format(inicial,final))\n",
    "else:\n",
    "\tprint(\"Palabra {}  no encontrada\".format(palabra))\n"
   ]
  },
  {
   "cell_type": "code",
   "execution_count": null,
   "metadata": {},
   "outputs": [],
   "source": []
  }
 ],
 "metadata": {
  "kernelspec": {
   "display_name": "Python 3",
   "language": "python",
   "name": "python3"
  },
  "language_info": {
   "codemirror_mode": {
    "name": "ipython",
    "version": 3
   },
   "file_extension": ".py",
   "mimetype": "text/x-python",
   "name": "python",
   "nbconvert_exporter": "python",
   "pygments_lexer": "ipython3",
   "version": "3.7.6"
  }
 },
 "nbformat": 4,
 "nbformat_minor": 4
}
