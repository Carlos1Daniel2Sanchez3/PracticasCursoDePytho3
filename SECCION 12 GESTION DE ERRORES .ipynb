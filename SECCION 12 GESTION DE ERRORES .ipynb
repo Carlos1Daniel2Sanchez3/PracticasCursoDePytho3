{
 "cells": [
  {
   "cell_type": "code",
   "execution_count": 4,
   "metadata": {},
   "outputs": [],
   "source": [
    "# <<< SECCION 12 GESTION DE ERRORES >>>  Ejercicio 1"
   ]
  },
  {
   "cell_type": "markdown",
   "metadata": {},
   "source": [
    "Crea la funcion “operacion” que dados 3 numeros, dividida el primer numero entre la resta de los otros dos numero \n",
    "\n",
    "Utilizar la funcion creada con los numeros 5,4,2\n",
    "\n",
    "Utilizar la funcion creada con los numeros 6,3,3\n",
    "\n",
    "Utilizar el bloque try… exept para controlar cualquier posible error\n"
   ]
  },
  {
   "cell_type": "code",
   "execution_count": 5,
   "metadata": {},
   "outputs": [],
   "source": [
    "def operacion(numero1,numero2,numero3):\n",
    "\tresultado = numero1 / (numero2 - numero3)\n",
    "\treturn resultado"
   ]
  },
  {
   "cell_type": "code",
   "execution_count": 6,
   "metadata": {},
   "outputs": [
    {
     "name": "stdout",
     "output_type": "stream",
     "text": [
      "5.0\n"
     ]
    }
   ],
   "source": [
    "numero1  = 5\n",
    "numero2  = 4\n",
    "numero3  = 3\n",
    "resultado = operacion(numero1,numero2,numero3)\n",
    "print(resultado)"
   ]
  },
  {
   "cell_type": "code",
   "execution_count": 9,
   "metadata": {},
   "outputs": [
    {
     "name": "stdout",
     "output_type": "stream",
     "text": [
      "Error. Los ultimos dos numeros tienen que ser diferentes\n"
     ]
    }
   ],
   "source": [
    "numero1  = 6\n",
    "numero2  = 3\n",
    "numero3  = 3\n",
    "try:\n",
    "    resultado = operación(numero1,numero2,numero3)\n",
    "    print(resultado)\n",
    "except:\n",
    "    print(\"Error. Los ultimos dos numeros tienen que ser diferentes\")\n"
   ]
  },
  {
   "cell_type": "code",
   "execution_count": null,
   "metadata": {},
   "outputs": [],
   "source": []
  }
 ],
 "metadata": {
  "kernelspec": {
   "display_name": "Python 3",
   "language": "python",
   "name": "python3"
  },
  "language_info": {
   "codemirror_mode": {
    "name": "ipython",
    "version": 3
   },
   "file_extension": ".py",
   "mimetype": "text/x-python",
   "name": "python",
   "nbconvert_exporter": "python",
   "pygments_lexer": "ipython3",
   "version": "3.7.6"
  }
 },
 "nbformat": 4,
 "nbformat_minor": 4
}
